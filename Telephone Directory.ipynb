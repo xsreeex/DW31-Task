{
 "cells": [
  {
   "cell_type": "code",
   "execution_count": 1,
   "id": "71ce78bd",
   "metadata": {},
   "outputs": [
    {
     "name": "stdout",
     "output_type": "stream",
     "text": [
      "Requirement already satisfied: pymongo in c:\\users\\sree2\\anaconda3\\lib\\site-packages (4.3.3)\n",
      "Requirement already satisfied: dnspython<3.0.0,>=1.16.0 in c:\\users\\sree2\\anaconda3\\lib\\site-packages (from pymongo) (2.2.1)\n",
      "Note: you may need to restart the kernel to use updated packages.\n"
     ]
    }
   ],
   "source": [
    "pip install pymongo"
   ]
  },
  {
   "cell_type": "code",
   "execution_count": 2,
   "id": "d8f747a1",
   "metadata": {},
   "outputs": [],
   "source": [
    "import pymongo\n",
    "\n",
    "client = pymongo.MongoClient(\"mongodb://localhost:27017/\")\n",
    "\n"
   ]
  },
  {
   "cell_type": "code",
   "execution_count": 3,
   "id": "a469bdfb",
   "metadata": {},
   "outputs": [
    {
     "data": {
      "text/plain": [
       "['tele_directory']"
      ]
     },
     "execution_count": 3,
     "metadata": {},
     "output_type": "execute_result"
    }
   ],
   "source": [
    "database_name=\"tele_database\"\n",
    "tele=client[database_name]\n",
    "\n",
    "collection_name=\"tele_directory\"\n",
    "collection=tele[collection_name]\n",
    "\n",
    "\n",
    "tele.list_collection_names()"
   ]
  },
  {
   "cell_type": "code",
   "execution_count": 5,
   "id": "7dfb230f",
   "metadata": {},
   "outputs": [
    {
     "data": {
      "text/plain": [
       "<pymongo.results.InsertManyResult at 0x2e27fbc2850>"
      ]
     },
     "execution_count": 5,
     "metadata": {},
     "output_type": "execute_result"
    }
   ],
   "source": [
    "#CREATE\n",
    "documents=[{\"Name\":\"Sree\",\"Phone No\":12345678,\"Place\":\"Tvm\"},\n",
    "           {\"Name\":\"Rahim\",\"Phone No\":15567555,\"Place\":\"Blr\"},\n",
    "           {\"Name\":\"Ronak\",\"Phone No\":15676890,\"Place\":\"Ekm\"}]\n",
    "collection.insert_many(documents)"
   ]
  },
  {
   "cell_type": "code",
   "execution_count": 6,
   "id": "cb835142",
   "metadata": {},
   "outputs": [
    {
     "data": {
      "text/plain": [
       "['tele_directory']"
      ]
     },
     "execution_count": 6,
     "metadata": {},
     "output_type": "execute_result"
    }
   ],
   "source": [
    "tele.list_collection_names()"
   ]
  },
  {
   "cell_type": "code",
   "execution_count": 8,
   "id": "bbd0393b",
   "metadata": {},
   "outputs": [
    {
     "name": "stdout",
     "output_type": "stream",
     "text": [
      "{'_id': ObjectId('639f358a9f94101778f29166'), 'Name': 'Sree', 'Phone No': 12345678, 'Place': 'Tvm'}\n"
     ]
    }
   ],
   "source": [
    "#Retrieve\n",
    "query={\"Name\":\"Sree\"}\n",
    "print(collection.find_one(query))\n"
   ]
  },
  {
   "cell_type": "code",
   "execution_count": 9,
   "id": "a5545559",
   "metadata": {},
   "outputs": [
    {
     "name": "stdout",
     "output_type": "stream",
     "text": [
      "{'_id': ObjectId('639f358a9f94101778f29166'), 'Name': 'Sree', 'Phone No': 12345678, 'Place': 'Tvm'}\n",
      "{'_id': ObjectId('639f358a9f94101778f29167'), 'Name': 'Rahim', 'Phone No': 15567555, 'Place': 'Blr'}\n",
      "{'_id': ObjectId('639f358a9f94101778f29168'), 'Name': 'Ronak', 'Phone No': 15676890, 'Place': 'Ekm'}\n"
     ]
    }
   ],
   "source": [
    "result=collection.find({}).limit(3)\n",
    "for i in result:\n",
    "    print(i)"
   ]
  },
  {
   "cell_type": "code",
   "execution_count": 10,
   "id": "5f283c9c",
   "metadata": {},
   "outputs": [
    {
     "data": {
      "text/plain": [
       "<pymongo.results.UpdateResult at 0x2e201e50cd0>"
      ]
     },
     "execution_count": 10,
     "metadata": {},
     "output_type": "execute_result"
    }
   ],
   "source": [
    "#Update\n",
    "query={\"Phone No\":{\"$eq\":15567555}}\n",
    "present_data=collection.find_one(query)\n",
    "new_data={'$set':{\"Name\":'Ramesh'}}\n",
    "collection.update_one(present_data,new_data)"
   ]
  },
  {
   "cell_type": "code",
   "execution_count": 11,
   "id": "0c871117",
   "metadata": {},
   "outputs": [
    {
     "data": {
      "text/plain": [
       "<pymongo.results.DeleteResult at 0x2e27fbc86d0>"
      ]
     },
     "execution_count": 11,
     "metadata": {},
     "output_type": "execute_result"
    }
   ],
   "source": [
    "#Delete\n",
    "query={\"Phone No\":15567555}\n",
    "collection.delete_one(query)"
   ]
  },
  {
   "cell_type": "code",
   "execution_count": 14,
   "id": "bd497b4a",
   "metadata": {},
   "outputs": [
    {
     "name": "stdout",
     "output_type": "stream",
     "text": [
      "{'_id': ObjectId('639f358a9f94101778f29166'), 'Name': 'Sree', 'Phone No': 12345678, 'Place': 'Tvm'}\n",
      "{'_id': ObjectId('639f358a9f94101778f29168'), 'Name': 'Ronak', 'Phone No': 15676890, 'Place': 'Ekm'}\n"
     ]
    }
   ],
   "source": [
    "#Retrieve \n",
    "result=collection.find({})\n",
    "for i in result:\n",
    "    print(i)"
   ]
  },
  {
   "cell_type": "code",
   "execution_count": null,
   "id": "6876a8c5",
   "metadata": {},
   "outputs": [],
   "source": []
  }
 ],
 "metadata": {
  "kernelspec": {
   "display_name": "Python 3 (ipykernel)",
   "language": "python",
   "name": "python3"
  },
  "language_info": {
   "codemirror_mode": {
    "name": "ipython",
    "version": 3
   },
   "file_extension": ".py",
   "mimetype": "text/x-python",
   "name": "python",
   "nbconvert_exporter": "python",
   "pygments_lexer": "ipython3",
   "version": "3.9.13"
  }
 },
 "nbformat": 4,
 "nbformat_minor": 5
}
